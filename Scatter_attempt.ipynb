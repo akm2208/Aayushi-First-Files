{
  "nbformat": 4,
  "nbformat_minor": 0,
  "metadata": {
    "colab": {
      "provenance": [],
      "machine_shape": "hm",
      "authorship_tag": "ABX9TyPxW0Ga6nte/TXDKdefSsaX",
      "include_colab_link": true
    },
    "kernelspec": {
      "name": "python3",
      "display_name": "Python 3"
    },
    "language_info": {
      "name": "python"
    }
  },
  "cells": [
    {
      "cell_type": "markdown",
      "metadata": {
        "id": "view-in-github",
        "colab_type": "text"
      },
      "source": [
        "<a href=\"https://colab.research.google.com/github/akm2208/Aayushi-First-Files/blob/main/Scatter_attempt.ipynb\" target=\"_parent\"><img src=\"https://colab.research.google.com/assets/colab-badge.svg\" alt=\"Open In Colab\"/></a>"
      ]
    },
    {
      "cell_type": "code",
      "execution_count": 62,
      "metadata": {
        "colab": {
          "base_uri": "https://localhost:8080/"
        },
        "id": "1Lwp-M48Mm4o",
        "outputId": "05e5d781-fbc1-408e-b2a3-cc367bf80852"
      },
      "outputs": [
        {
          "output_type": "stream",
          "name": "stdout",
          "text": [
            "Drive already mounted at /content/drive; to attempt to forcibly remount, call drive.mount(\"/content/drive\", force_remount=True).\n",
            "Collecting git+https://github.com/OpenHydrology/lmoments3.git\n",
            "  Cloning https://github.com/OpenHydrology/lmoments3.git to /tmp/pip-req-build-m6ylitfw\n",
            "  Running command git clone --filter=blob:none --quiet https://github.com/OpenHydrology/lmoments3.git /tmp/pip-req-build-m6ylitfw\n",
            "  Resolved https://github.com/OpenHydrology/lmoments3.git to commit 7e19f97c23019ca68cbd526b8bd417c412438f1c\n",
            "  Preparing metadata (setup.py) ... \u001b[?25l\u001b[?25hdone\n",
            "Requirement already satisfied: cftime in /usr/local/lib/python3.10/dist-packages (1.6.3)\n",
            "Requirement already satisfied: numpy>1.13.3 in /usr/local/lib/python3.10/dist-packages (from cftime) (1.23.5)\n",
            "Requirement already satisfied: netCDF4 in /usr/local/lib/python3.10/dist-packages (1.6.4)\n",
            "Requirement already satisfied: cftime in /usr/local/lib/python3.10/dist-packages (from netCDF4) (1.6.3)\n",
            "Requirement already satisfied: certifi in /usr/local/lib/python3.10/dist-packages (from netCDF4) (2023.7.22)\n",
            "Requirement already satisfied: numpy in /usr/local/lib/python3.10/dist-packages (from netCDF4) (1.23.5)\n"
          ]
        }
      ],
      "source": [
        "from google.colab import drive\n",
        "drive.mount(\"/content/drive\")\n",
        "\n",
        "!pip install git+https://github.com/OpenHydrology/lmoments3.git\n",
        "!pip install cftime\n",
        "!pip install netCDF4\n",
        "\n",
        "\n",
        "import numpy as np\n",
        "import xarray as xr\n",
        "import matplotlib.pyplot as plt\n",
        "import lmoments3 as lm\n",
        "from lmoments3 import distr\n",
        "import pandas as pd\n",
        "import netCDF4 as nc\n",
        "import glob\n",
        "import os\n",
        "import cftime\n",
        "import warnings\n",
        "warnings.filterwarnings('ignore')\n",
        "\n",
        "import xarray as xr\n",
        "import numpy as np\n",
        "import matplotlib.pyplot as plt\n",
        "import scipy.stats as stats  # Import scipy.stats for the GEV distribution\n",
        "\n",
        "# Load historical and future datasets\n",
        "historical_fn = \"/content/drive/My Drive/CIVE5363_Midterm_Q2bii/tas_day_CanESM5_historical_r1i1p1f1_gn_18500101-20141231.nc\"\n",
        "historical_ds = xr.open_dataset(historical_fn, engine=\"netcdf4\")\n",
        "\n",
        "future_fn = \"/content/drive/My Drive/CIVE5363_Midterm_Q2bii/tas_day_CanESM5_ssp585_r1i1p1f1_gn_20150101-21001231.nc\"\n",
        "future_ds = xr.open_dataset(future_fn, engine=\"h5netcdf\")\n"
      ]
    },
    {
      "cell_type": "code",
      "source": [
        "lat = 35.8\n",
        "lon = -91\n",
        "\n",
        "historical_data = historical_ds.sel(lat=lat, lon=lon, method='nearest')\n",
        "future_data = future_ds.sel(lat=lat, lon=lon, method='nearest')"
      ],
      "metadata": {
        "id": "nMh0pFjTQ9CC"
      },
      "execution_count": 63,
      "outputs": []
    },
    {
      "cell_type": "code",
      "source": [
        "# Define your GEV functions\n",
        "def gev_wrapper(data, T):\n",
        "    gevfit = gev_fit(data)\n",
        "    RL = return_levels(gevfit, T)\n",
        "    return RL\n",
        "\n",
        "def gev_fit(data):\n",
        "    gevfit = stats.genextreme.fit(data)\n",
        "    return gevfit\n",
        "\n",
        "def return_levels(gevfit, T):\n",
        "    RL = stats.genextreme.ppf(1.0 - 1.0 / T, *gevfit)\n",
        "    return RL"
      ],
      "metadata": {
        "id": "V2tpftnCQ7hI"
      },
      "execution_count": 64,
      "outputs": []
    },
    {
      "cell_type": "code",
      "source": [
        "historical_data = historical_ds['tas'].values - 273.15\n",
        "future_data = future_ds['tas'].values - 273.15\n",
        "\n"
      ],
      "metadata": {
        "id": "5Nrx6L9BV0vW"
      },
      "execution_count": 68,
      "outputs": []
    },
    {
      "cell_type": "code",
      "source": [
        "print(historical_data)"
      ],
      "metadata": {
        "colab": {
          "base_uri": "https://localhost:8080/"
        },
        "id": "JKAqa0rbZgdM",
        "outputId": "caf65f9d-75f6-4bc2-bd4a-c2f2e614750b"
      },
      "execution_count": 69,
      "outputs": [
        {
          "output_type": "stream",
          "name": "stdout",
          "text": [
            "[[[-23.019241 -23.272781 -23.653702 ... -22.089386 -22.44661  -22.681122]\n",
            "  [-23.569305 -24.120209 -24.707901 ... -21.672333 -22.349136 -22.970856]\n",
            "  [-24.159637 -24.61943  -25.007965 ... -21.790695 -22.827896 -23.52893 ]\n",
            "  ...\n",
            "  [-20.289612 -17.75203  -15.228424 ... -26.817108 -24.893219 -22.688889]\n",
            "  [-22.086288 -20.847977 -19.612305 ... -25.685837 -24.543167 -23.33664 ]\n",
            "  [-24.238052 -23.974182 -23.70491  ... -25.091904 -24.802002 -24.537674]]\n",
            "\n",
            " [[-22.32463  -22.594238 -22.813004 ... -21.648544 -21.873291 -22.235672]\n",
            "  [-24.462738 -25.070465 -25.748459 ... -22.509445 -23.21582  -23.836304]\n",
            "  [-25.851334 -26.444672 -26.840973 ... -23.438385 -24.31842  -25.055054]\n",
            "  ...\n",
            "  [-19.979279 -17.20691  -14.560394 ... -27.328232 -25.163986 -22.661057]\n",
            "  [-19.366196 -17.615524 -15.912903 ... -24.583588 -22.898865 -21.147308]\n",
            "  [-19.313263 -18.712662 -18.11493  ... -21.113464 -20.53334  -19.920395]]\n",
            "\n",
            " [[-21.911407 -22.175201 -22.40416  ... -21.39383  -21.606735 -21.696182]\n",
            "  [-24.487503 -25.132828 -25.861145 ... -22.347015 -23.110703 -23.79837 ]\n",
            "  [-25.96756  -27.220154 -27.949905 ... -22.644806 -23.671204 -24.73059 ]\n",
            "  ...\n",
            "  [-19.219498 -17.166702 -15.244354 ... -24.959473 -23.204819 -21.254776]\n",
            "  [-21.004974 -20.29924  -19.67221  ... -23.65393  -22.694183 -21.7863  ]\n",
            "  [-19.416687 -19.118835 -18.912247 ... -20.336868 -19.990356 -19.699265]]\n",
            "\n",
            " ...\n",
            "\n",
            " [[-20.011154 -20.150024 -20.281845 ... -19.520859 -19.69548  -19.870667]\n",
            "  [-21.840515 -22.017563 -22.100174 ... -20.619034 -21.164627 -21.57338 ]\n",
            "  [-23.24353  -23.666763 -23.970322 ... -21.074509 -21.974228 -22.692657]\n",
            "  ...\n",
            "  [-13.502777 -12.307312 -11.617584 ... -17.514847 -15.768768 -14.489899]\n",
            "  [-12.994232 -12.972626 -13.130249 ... -13.663116 -13.302948 -13.121368]\n",
            "  [-20.7697   -20.911423 -21.125336 ... -20.510834 -20.564972 -20.652603]]\n",
            "\n",
            " [[-18.237854 -18.424408 -18.580582 ... -17.672577 -17.886444 -18.07962 ]\n",
            "  [-19.051895 -19.264328 -19.469482 ... -18.026962 -18.468658 -18.80838 ]\n",
            "  [-21.641998 -21.858444 -22.007767 ... -20.43103  -20.986664 -21.373718]\n",
            "  ...\n",
            "  [-10.672485 -11.167053 -11.278168 ... -10.792725 -10.453033 -10.439117]\n",
            "  [-20.52504  -21.451553 -22.017822 ... -18.584259 -19.23384  -19.841904]\n",
            "  [-25.513046 -25.418839 -25.549835 ... -25.31099  -25.408173 -25.45996 ]]\n",
            "\n",
            " [[-19.140213 -19.3098   -19.468643 ... -18.600647 -18.797623 -18.980835]\n",
            "  [-20.59523  -20.80046  -20.965424 ... -19.637955 -20.05368  -20.357315]\n",
            "  [-23.631882 -23.809738 -23.919556 ... -22.29921  -22.909225 -23.342743]\n",
            "  ...\n",
            "  [-21.42395  -22.209747 -22.834991 ... -19.681427 -20.077759 -20.66272 ]\n",
            "  [-25.88649  -26.299393 -26.638092 ... -24.85756  -25.153    -25.560486]\n",
            "  [-27.55365  -27.415741 -27.299759 ... -27.802582 -27.73616  -27.652328]]]\n"
          ]
        }
      ]
    },
    {
      "cell_type": "code",
      "source": [
        "print(future_data)"
      ],
      "metadata": {
        "colab": {
          "base_uri": "https://localhost:8080/"
        },
        "id": "GZLbtMOPZhuo",
        "outputId": "d6ec89fa-5b79-4c15-b641-86145fa029fc"
      },
      "execution_count": 71,
      "outputs": [
        {
          "output_type": "stream",
          "name": "stdout",
          "text": [
            "[[[-20.254929  -20.434753  -20.616196  ... -19.632645  -19.838684\n",
            "   -20.049164 ]\n",
            "  [-21.359879  -21.552963  -21.739288  ... -20.311157  -20.757187\n",
            "   -21.099106 ]\n",
            "  [-23.626617  -23.800583  -23.899734  ... -22.271484  -22.92305\n",
            "   -23.336136 ]\n",
            "  ...\n",
            "  [-28.025284  -28.3667    -28.6837    ... -27.12465   -27.391174\n",
            "   -27.62642  ]\n",
            "  [-29.694351  -29.681229  -29.549484  ... -30.15033   -30.091629\n",
            "   -30.11264  ]\n",
            "  [-25.005234  -24.630615  -24.33136   ... -25.991348  -25.784668\n",
            "   -25.319595 ]]\n",
            "\n",
            " [[-20.268265  -20.443848  -20.463318  ... -19.770813  -19.93657\n",
            "   -20.08397  ]\n",
            "  [-21.973846  -22.255875  -22.374481  ... -20.763138  -21.304733\n",
            "   -21.78299  ]\n",
            "  [-23.746216  -23.919937  -24.104294  ... -22.54126   -23.117859\n",
            "   -23.374237 ]\n",
            "  ...\n",
            "  [-29.648895  -29.56308   -29.418793  ... -28.97789   -29.326828\n",
            "   -29.496796 ]\n",
            "  [-26.733978  -26.654755  -26.556503  ... -27.19519   -27.065994\n",
            "   -26.959518 ]\n",
            "  [-20.08847   -20.012512  -19.955887  ... -20.366562  -20.253494\n",
            "   -20.155472 ]]\n",
            "\n",
            " [[-21.50496   -21.650955  -21.868805  ... -21.122116  -21.203552\n",
            "   -21.380081 ]\n",
            "  [-22.48088   -22.946365  -23.35196   ... -20.271194  -20.942612\n",
            "   -21.881073 ]\n",
            "  [-22.422424  -22.647598  -22.884308  ... -21.985123  -22.283508\n",
            "   -22.402725 ]\n",
            "  ...\n",
            "  [-27.32814   -27.668976  -27.940567  ... -26.382431  -26.662369\n",
            "   -26.893906 ]\n",
            "  [-24.609116  -24.620483  -24.652802  ... -24.667786  -24.651886\n",
            "   -24.599075 ]\n",
            "  [-22.403015  -22.481369  -22.521286  ... -22.105225  -22.230316\n",
            "   -22.298553 ]]\n",
            "\n",
            " ...\n",
            "\n",
            " [[-10.366241  -10.613159  -10.761505  ...  -9.903778  -10.038666\n",
            "   -10.193115 ]\n",
            "  [-11.420624  -11.883789  -12.281311  ...  -9.955688  -10.527008\n",
            "   -11.050659 ]\n",
            "  [-11.86554   -12.456299  -12.842346  ... -10.212677  -10.790405\n",
            "   -11.401093 ]\n",
            "  ...\n",
            "  [  2.299591    2.5159607   2.7447815 ...   1.1390991   1.6171875\n",
            "     2.02771  ]\n",
            "  [  2.1141357   2.1763916   2.2451172 ...   1.9309387   1.9815063\n",
            "     2.0466614]\n",
            "  [  2.2687988   2.298645    2.322235  ...   2.1714478   2.2113037\n",
            "     2.2348938]]\n",
            "\n",
            " [[ -8.979675   -9.048187   -9.19693   ...  -8.590759   -8.679749\n",
            "    -8.880676 ]\n",
            "  [ -9.387329   -9.758728  -10.043732  ...  -8.515015   -8.880707\n",
            "    -9.211975 ]\n",
            "  [-10.727539  -10.927795  -11.107239  ...  -9.4149475  -9.991394\n",
            "   -10.41922  ]\n",
            "  ...\n",
            "  [  3.034851    3.3808289   3.6203308 ...   1.3450623   1.9494019\n",
            "     2.5384216]\n",
            "  [  2.3020935   2.4500427   2.5735474 ...   1.7708435   1.9732971\n",
            "     2.135376 ]\n",
            "  [  2.2655334   2.2999878   2.3232727 ...   2.1672058   2.20047\n",
            "     2.24057  ]]\n",
            "\n",
            " [[-10.974182  -11.1188965 -11.2771    ... -10.406769  -10.604401\n",
            "   -10.797913 ]\n",
            "  [-11.364197  -11.609467  -11.7777405 ... -10.192352  -10.669617\n",
            "   -11.055023 ]\n",
            "  [-12.124634  -12.364838  -12.535614  ... -10.62085   -11.293915\n",
            "   -11.784973 ]\n",
            "  ...\n",
            "  [  3.5139465   3.5996704   3.5519104 ...   2.203247    2.7997437\n",
            "     3.2459717]\n",
            "  [  2.4700317   2.5820007   2.7194214 ...   2.1340942   2.254486\n",
            "     2.3605347]\n",
            "  [  2.6842346   2.7282104   2.7608337 ...   2.537262    2.595337\n",
            "     2.6367188]]]\n"
          ]
        }
      ]
    },
    {
      "cell_type": "code",
      "source": [
        "import numpy as np\n",
        "\n",
        "# Flatten the data using block maxima for historical and future data\n",
        "block_size = 365  # Block size for one year\n",
        "num_blocks = historical_data.shape[0] // block_size\n",
        "\n",
        "historical_maxima = []\n",
        "future_maxima = []\n",
        "\n",
        "for i in range(num_blocks):\n",
        "    start_idx = i * block_size\n",
        "    end_idx = (i + 1) * block_size\n",
        "    historical_block = historical_data[start_idx:end_idx]\n",
        "    future_block = future_data[start_idx:end_idx]\n",
        "\n",
        "    if len(historical_block) > 0:\n",
        "        historical_maxima.append(historical_block.max())\n",
        "\n",
        "    if len(future_block) > 0:\n",
        "        future_maxima.append(future_block.max())\n",
        "\n",
        "# Calculate the 100-year return period\n",
        "T = 100\n",
        "historical_maxima = np.array(historical_maxima)\n",
        "future_maxima = np.array(future_maxima)\n",
        "\n",
        "historical_return_level = np.percentile(historical_maxima, 100 * (1 - 1 / T))\n",
        "future_return_level = np.percentile(future_maxima, 100 * (1 - 1 / T))\n",
        "\n",
        "print(f\"100-year return level for historical data: {historical_return_level:.2f} °C\")\n",
        "print(f\"100-year return level for future data: {future_return_level:.2f} °C\")\n"
      ],
      "metadata": {
        "colab": {
          "base_uri": "https://localhost:8080/"
        },
        "id": "iuS6GJbDQ6BW",
        "outputId": "325d502e-70a0-4244-8ac4-2aca0b6b14e4"
      },
      "execution_count": 72,
      "outputs": [
        {
          "output_type": "stream",
          "name": "stdout",
          "text": [
            "100-year return level for historical data: 44.78 °C\n",
            "100-year return level for future data: 53.59 °C\n"
          ]
        }
      ]
    },
    {
      "cell_type": "code",
      "source": [
        "# Calculate return levels for historical and future data\n",
        "T = 100  # Return period of 100 years\n",
        "historical_return_levels = gev_wrapper(historical_maxima, T)\n",
        "future_return_levels = gev_wrapper(future_maxima, T)"
      ],
      "metadata": {
        "id": "HOyGrRW2Q3Qv"
      },
      "execution_count": 73,
      "outputs": []
    },
    {
      "cell_type": "code",
      "source": [
        "import matplotlib.pyplot as plt\n",
        "\n",
        "# Define the return periods (in this case, just 100 years)\n",
        "return_periods = [100]\n",
        "\n",
        "# Create a figure and axis\n",
        "fig, ax = plt.subplots(figsize=(10, 8))\n",
        "\n",
        "# Plot historical and future return levels as lines\n",
        "ax.plot(return_periods, [historical_return_level], label='Historical (35.8, -91)', marker='o', color='blue')\n",
        "ax.plot(return_periods, [future_return_level], label='Future (35.8, -91)', marker='o', color='red')\n",
        "\n",
        "# Set labels and title\n",
        "ax.set_xlabel('Return Period (years)')\n",
        "ax.set_ylabel('Temperature (°C)')\n",
        "ax.set_title('100-Year Temperature Return Levels (35.8, -91)')\n",
        "\n",
        "# Add a legend\n",
        "ax.legend()\n",
        "\n",
        "# Add a grid\n",
        "ax.grid()\n",
        "\n",
        "# Display the plot\n",
        "plt.show()\n"
      ],
      "metadata": {
        "colab": {
          "base_uri": "https://localhost:8080/",
          "height": 718
        },
        "id": "ESQ4pA2_SmWQ",
        "outputId": "e131efb0-e8e2-4364-9769-a96301b0a25d"
      },
      "execution_count": 83,
      "outputs": [
        {
          "output_type": "display_data",
          "data": {
            "text/plain": [
              "<Figure size 1000x800 with 1 Axes>"
            ],
            "image/png": "[encoded data removed]"
          },
          "metadata": {}
        }
      ]
    }
  ]
}