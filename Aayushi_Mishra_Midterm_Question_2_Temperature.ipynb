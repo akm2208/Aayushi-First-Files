{
  "cells": [
    {
      "cell_type": "markdown",
      "metadata": {
        "id": "view-in-github",
        "colab_type": "text"
      },
      "source": [
        "<a href=\"https://colab.research.google.com/github/akm2208/Aayushi-First-Files/blob/main/Aayushi_Mishra_Midterm_Question_2_Temperature.ipynb\" target=\"_parent\"><img src=\"https://colab.research.google.com/assets/colab-badge.svg\" alt=\"Open In Colab\"/></a>"
      ]
    },
    {
      "cell_type": "markdown",
      "metadata": {
        "id": "h-LY432HfECr"
      },
      "source": [
        "Temperature Projections from CMIP6 Models"
      ]
    },
    {
      "cell_type": "markdown",
      "metadata": {
        "id": "0rQQXgpRfECt"
      },
      "source": [
        "Install Libraries"
      ]
    },
    {
      "cell_type": "code",
      "source": [
        "!pip install cftime"
      ],
      "metadata": {
        "id": "i5Mj6njs3Ohx"
      },
      "execution_count": null,
      "outputs": []
    },
    {
      "cell_type": "code",
      "execution_count": 2,
      "metadata": {
        "id": "kb3R-Fv-fECt",
        "colab": {
          "base_uri": "https://localhost:8080/"
        },
        "outputId": "fc15efaa-4b58-4dc3-ffd1-1127a12f500f",
        "collapsed": true
      },
      "outputs": [
        {
          "output_type": "stream",
          "name": "stdout",
          "text": [
            "Collecting netCDF4\n",
            "  Downloading netCDF4-1.6.4-cp310-cp310-manylinux_2_17_x86_64.manylinux2014_x86_64.whl (5.4 MB)\n",
            "\u001b[2K     \u001b[90m━━━━━━━━━━━━━━━━━━━━━━━━━━━━━━━━━━━━━━━━\u001b[0m \u001b[32m5.4/5.4 MB\u001b[0m \u001b[31m14.1 MB/s\u001b[0m eta \u001b[36m0:00:00\u001b[0m\n",
            "\u001b[?25hRequirement already satisfied: cftime in /usr/local/lib/python3.10/dist-packages (from netCDF4) (1.6.2)\n",
            "Requirement already satisfied: certifi in /usr/local/lib/python3.10/dist-packages (from netCDF4) (2023.7.22)\n",
            "Requirement already satisfied: numpy in /usr/local/lib/python3.10/dist-packages (from netCDF4) (1.23.5)\n",
            "Installing collected packages: netCDF4\n",
            "Successfully installed netCDF4-1.6.4\n"
          ]
        }
      ],
      "source": [
        "!pip install  netCDF4"
      ]
    },
    {
      "cell_type": "markdown",
      "metadata": {
        "id": "V9cdVpLRfECu"
      },
      "source": [
        "Import Libraries"
      ]
    },
    {
      "cell_type": "code",
      "execution_count": 3,
      "metadata": {
        "id": "W9oHFh5CfECu"
      },
      "outputs": [],
      "source": [
        "import xarray as xr\n",
        "import numpy as np\n",
        "import pandas as pd\n",
        "import netCDF4 as nc\n",
        "import glob\n",
        "import os\n",
        "import cftime\n",
        "import matplotlib.pyplot as plt\n",
        "import warnings\n",
        "warnings.filterwarnings('ignore')"
      ]
    },
    {
      "cell_type": "code",
      "source": [
        "from google.colab import drive\n",
        "drive.mount(\"/content/drive\")"
      ],
      "metadata": {
        "id": "6TpFhUny1c9Y"
      },
      "execution_count": null,
      "outputs": []
    },
    {
      "cell_type": "markdown",
      "metadata": {
        "id": "zB-2aEMSfECu"
      },
      "source": [
        "Merge ..nc files"
      ]
    },
    {
      "cell_type": "code",
      "execution_count": null,
      "metadata": {
        "id": "WLQagscNfECu"
      },
      "outputs": [],
      "source": []
    },
    {
      "cell_type": "code",
      "execution_count": null,
      "metadata": {
        "id": "JLHnLOMtfECu"
      },
      "outputs": [],
      "source": []
    },
    {
      "cell_type": "markdown",
      "metadata": {
        "id": "z-4tLEqjfECv"
      },
      "source": [
        "Open Dataset and Plot"
      ]
    },
    {
      "cell_type": "code",
      "execution_count": null,
      "metadata": {
        "id": "r-sx1k1tfECv"
      },
      "outputs": [],
      "source": [
        "temp_Hist = \"/content/drive/My Drive/CIVE5363_Midterm/tas_day_CanESM5_historical_r1i1p1f1_gn_18500101-20141231.nc\"\n",
        "temp_Hist= xr.open_dataset(temp_Hist, engine='netcdf4')\n",
        "\n",
        "\n",
        "print(temp_Hist)\n",
        "T = temp_Hist.sel(time = '1850-01-01')\n",
        "T['tas'].plot()"
      ]
    },
    {
      "cell_type": "code",
      "execution_count": 8,
      "metadata": {
        "id": "GzGu-dc-fECv"
      },
      "outputs": [],
      "source": [
        "temp_Hist =temp_Hist['tas'] - 273.15 #converting unit from Kelvin to Deg Celsius\n",
        "temp_Hist['lon'] = xr.where(temp_Hist['lon'] > 180, temp_Hist['lon'] - 360, temp_Hist['lon'])\n",
        "temp_Hist = temp_Hist.sortby('lon')"
      ]
    },
    {
      "cell_type": "code",
      "source": [
        "temp_Hist"
      ],
      "metadata": {
        "id": "mUaMm0Go8KAD"
      },
      "execution_count": null,
      "outputs": []
    },
    {
      "cell_type": "code",
      "execution_count": null,
      "metadata": {
        "id": "3UIs8xkHfECv"
      },
      "outputs": [],
      "source": [
        "T = temp_Hist.sel(time = '1980-04-07')\n",
        "T.plot()\n"
      ]
    },
    {
      "cell_type": "code",
      "execution_count": null,
      "metadata": {
        "id": "TpyefsvSfECv"
      },
      "outputs": [],
      "source": [
        "!pip install geopandas"
      ]
    },
    {
      "cell_type": "code",
      "execution_count": null,
      "metadata": {
        "id": "--27BxrqfECw"
      },
      "outputs": [],
      "source": [
        "import geopandas as gpd\n",
        "\n",
        "# Load the shapefile for continent borders\n",
        "world = gpd.read_file(gpd.datasets.get_path('naturalearth_lowres'))\n",
        "\n",
        "# Select the data\n",
        "T = temp_Hist.sel(time='1980-04-07')\n",
        "\n",
        "# Plot the data\n",
        "plt.figure(figsize=(10, 6))\n",
        "T.plot()\n",
        "\n",
        "# Plot continent borders\n",
        "world.boundary.plot(ax=plt.gca(), linewidth=1.5, color='black')\n",
        "\n",
        "# Show the plot\n",
        "plt.show()\n"
      ]
    },
    {
      "cell_type": "markdown",
      "metadata": {
        "id": "MTVcmkZCfECw"
      },
      "source": [
        "Analyzing Global Mean, Max,Trends"
      ]
    },
    {
      "cell_type": "code",
      "execution_count": null,
      "metadata": {
        "id": "wL7n1v6LfECw"
      },
      "outputs": [],
      "source": [
        "mean_temp = temp_Hist.mean(dim='lat')\n",
        "mean_temp = mean_temp.mean(dim = 'lon')\n",
        "print(mean_temp)\n"
      ]
    },
    {
      "cell_type": "code",
      "execution_count": null,
      "metadata": {
        "id": "Gayrq6TdfECw"
      },
      "outputs": [],
      "source": [
        "annual_mean  = mean_temp.groupby('time.year').mean('time')\n",
        "print(annual_mean)"
      ]
    },
    {
      "cell_type": "code",
      "execution_count": null,
      "metadata": {
        "id": "2c1O8LkzfECw"
      },
      "outputs": [],
      "source": [
        "df = annual_mean.to_dataframe()\n",
        "df.tas.plot()\n",
        "plt.show()"
      ]
    },
    {
      "cell_type": "code",
      "execution_count": null,
      "metadata": {
        "id": "Y9qe6lzafECw"
      },
      "outputs": [],
      "source": [
        "import numpy as np\n",
        "coefficients, residuals, _, _, _ = np.polyfit(range(len(df.index)),df,1,full=True)\n",
        "\n",
        "print('Slope ' + str(coefficients[0][1]))\n",
        "print('Intercept ' + str(coefficients[1][1]))\n",
        "\n",
        "\n",
        "x = range(1850, 2015)\n",
        "y = ([coefficients[0]*x + coefficients[1] for x in range(len(df))])\n",
        "plt.plot(df.tas)\n",
        "plt.plot(x,y)\n",
        "plt.ylim(2.5,7)"
      ]
    },
    {
      "cell_type": "code",
      "source": [
        "# Question 2b(i)_Temperature\n",
        "# I set the desiered latitude and longitudes\n",
        "desired_lat = 35.8\n",
        "desired_lon = -91\n",
        "\n",
        "# To select the desired coordinates, I use .sel and the \"nearest\" method to ensure the closest values are selected\n",
        "selected_location = temp_Hist.sel(lat=desired_lat, lon=desired_lon, method='nearest')\n",
        "\n",
        "# I use groupby to calculate annual mean of the selected location\n",
        "annual_mean = selected_location.groupby('time.year').mean('time')\n",
        "\n",
        "# To plot the figure, I set the size to be 10,6 and set the title, axes names, and units\n",
        "plt.figure(figsize=(10, 6))\n",
        "annual_mean.plot()\n",
        "plt.title('Annual Temperature from 1850-2014 (Latitude 35.8 and Longitude -91)')\n",
        "plt.xlabel('Year')\n",
        "plt.ylabel('Temperature (°C)')\n",
        "plt.grid(True)\n",
        "plt.show()"
      ],
      "metadata": {
        "id": "YzP1LpJBejvq"
      },
      "execution_count": null,
      "outputs": []
    }
  ],
  "metadata": {
    "kernelspec": {
      "display_name": "Python 3",
      "language": "python",
      "name": "python3"
    },
    "language_info": {
      "codemirror_mode": {
        "name": "ipython",
        "version": 3
      },
      "file_extension": ".py",
      "mimetype": "text/x-python",
      "name": "python",
      "nbconvert_exporter": "python",
      "pygments_lexer": "ipython3",
      "version": "3.8.5"
    },
    "colab": {
      "provenance": [],
      "include_colab_link": true
    }
  },
  "nbformat": 4,
  "nbformat_minor": 0
}