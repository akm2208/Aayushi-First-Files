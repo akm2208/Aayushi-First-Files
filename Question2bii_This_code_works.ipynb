{
  "nbformat": 4,
  "nbformat_minor": 0,
  "metadata": {
    "colab": {
      "provenance": [],
      "authorship_tag": "ABX9TyOGEOTF7x0HvM0fVaNspaIY",
      "include_colab_link": true
    },
    "kernelspec": {
      "name": "python3",
      "display_name": "Python 3"
    },
    "language_info": {
      "name": "python"
    }
  },
  "cells": [
    {
      "cell_type": "markdown",
      "metadata": {
        "id": "view-in-github",
        "colab_type": "text"
      },
      "source": [
        "<a href=\"https://colab.research.google.com/github/akm2208/Aayushi-First-Files/blob/main/Question2bii_This_code_works.ipynb\" target=\"_parent\"><img src=\"https://colab.research.google.com/assets/colab-badge.svg\" alt=\"Open In Colab\"/></a>"
      ]
    },
    {
      "cell_type": "code",
      "execution_count": 9,
      "metadata": {
        "colab": {
          "base_uri": "https://localhost:8080/",
          "height": 1000
        },
        "id": "_yZZtD4edWlA",
        "outputId": "ab55e138-a413-4b47-b358-30924d42b822"
      },
      "outputs": [
        {
          "output_type": "stream",
          "name": "stdout",
          "text": [
            "Drive already mounted at /content/drive; to attempt to forcibly remount, call drive.mount(\"/content/drive\", force_remount=True).\n",
            "Collecting git+https://github.com/OpenHydrology/lmoments3.git\n",
            "  Cloning https://github.com/OpenHydrology/lmoments3.git to /tmp/pip-req-build-5rkz6hfz\n",
            "  Running command git clone --filter=blob:none --quiet https://github.com/OpenHydrology/lmoments3.git /tmp/pip-req-build-5rkz6hfz\n",
            "  Resolved https://github.com/OpenHydrology/lmoments3.git to commit 7e19f97c23019ca68cbd526b8bd417c412438f1c\n",
            "  Preparing metadata (setup.py) ... \u001b[?25l\u001b[?25hdone\n",
            "Requirement already satisfied: cftime in /usr/local/lib/python3.10/dist-packages (1.6.3)\n",
            "Requirement already satisfied: numpy>1.13.3 in /usr/local/lib/python3.10/dist-packages (from cftime) (1.23.5)\n",
            "Requirement already satisfied: netCDF4 in /usr/local/lib/python3.10/dist-packages (1.6.4)\n",
            "Requirement already satisfied: cftime in /usr/local/lib/python3.10/dist-packages (from netCDF4) (1.6.3)\n",
            "Requirement already satisfied: certifi in /usr/local/lib/python3.10/dist-packages (from netCDF4) (2023.7.22)\n",
            "Requirement already satisfied: numpy in /usr/local/lib/python3.10/dist-packages (from netCDF4) (1.23.5)\n",
            "<xarray.Dataset>\n",
            "Dimensions:    (time: 60225, bnds: 2, lat: 64, lon: 128)\n",
            "Coordinates:\n",
            "  * time       (time) object 1850-01-01 12:00:00 ... 2014-12-31 12:00:00\n",
            "  * lat        (lat) float64 -87.86 -85.1 -82.31 -79.53 ... 82.31 85.1 87.86\n",
            "  * lon        (lon) float64 0.0 2.812 5.625 8.438 ... 348.8 351.6 354.4 357.2\n",
            "    height     float64 ...\n",
            "Dimensions without coordinates: bnds\n",
            "Data variables:\n",
            "    time_bnds  (time, bnds) object ...\n",
            "    lat_bnds   (lat, bnds) float64 ...\n",
            "    lon_bnds   (lon, bnds) float64 ...\n",
            "    tas        (time, lat, lon) float32 ...\n",
            "Attributes: (12/53)\n",
            "    CCCma_model_hash:            3dedf95315d603326fde4f5340dc0519d80d10c0\n",
            "    CCCma_parent_runid:          rc3-pictrl\n",
            "    CCCma_pycmor_hash:           33c30511acc319a98240633965a04ca99c26427e\n",
            "    CCCma_runid:                 rc3.1-his01\n",
            "    Conventions:                 CF-1.7 CMIP-6.2\n",
            "    YMDH_branch_time_in_child:   1850:01:01:00\n",
            "    ...                          ...\n",
            "    tracking_id:                 hdl:21.14100/dc83adf2-3502-4f41-8c9b-80e6bf0...\n",
            "    variable_id:                 tas\n",
            "    variant_label:               r1i1p1f1\n",
            "    version:                     v20190429\n",
            "    license:                     CMIP6 model data produced by The Government ...\n",
            "    cmor_version:                3.4.0\n",
            "<xarray.Dataset>\n",
            "Dimensions:    (time: 60225, bnds: 2, lat: 64, lon: 128)\n",
            "Coordinates:\n",
            "  * time       (time) object 1850-01-01 12:00:00 ... 2014-12-31 12:00:00\n",
            "  * lat        (lat) float64 -87.86 -85.1 -82.31 -79.53 ... 82.31 85.1 87.86\n",
            "  * lon        (lon) float64 0.0 2.812 5.625 8.438 ... 348.8 351.6 354.4 357.2\n",
            "    height     float64 ...\n",
            "Dimensions without coordinates: bnds\n",
            "Data variables:\n",
            "    time_bnds  (time, bnds) object ...\n",
            "    lat_bnds   (lat, bnds) float64 ...\n",
            "    lon_bnds   (lon, bnds) float64 ...\n",
            "    tas        (time, lat, lon) float32 ...\n",
            "Attributes: (12/53)\n",
            "    CCCma_model_hash:            3dedf95315d603326fde4f5340dc0519d80d10c0\n",
            "    CCCma_parent_runid:          rc3-pictrl\n",
            "    CCCma_pycmor_hash:           33c30511acc319a98240633965a04ca99c26427e\n",
            "    CCCma_runid:                 rc3.1-his01\n",
            "    Conventions:                 CF-1.7 CMIP-6.2\n",
            "    YMDH_branch_time_in_child:   1850:01:01:00\n",
            "    ...                          ...\n",
            "    tracking_id:                 hdl:21.14100/dc83adf2-3502-4f41-8c9b-80e6bf0...\n",
            "    variable_id:                 tas\n",
            "    variant_label:               r1i1p1f1\n",
            "    version:                     v20190429\n",
            "    license:                     CMIP6 model data produced by The Government ...\n",
            "    cmor_version:                3.4.0\n"
          ]
        },
        {
          "output_type": "execute_result",
          "data": {
            "text/plain": [
              "[<matplotlib.lines.Line2D at 0x7cc59d291420>]"
            ]
          },
          "metadata": {},
          "execution_count": 9
        },
        {
          "output_type": "display_data",
          "data": {
            "text/plain": [
              "<Figure size 640x480 with 1 Axes>"
            ],
            "image/png": "[encoded data removed]"
          },
          "metadata": {}
        }
      ],
      "source": [
        "from google.colab import drive\n",
        "drive.mount(\"/content/drive\")\n",
        "\n",
        "!pip install git+https://github.com/OpenHydrology/lmoments3.git\n",
        "!pip install cftime\n",
        "!pip install netCDF4\n",
        "\n",
        "import lmoments3 as lm\n",
        "from lmoments3 import distr\n",
        "import xarray as xr\n",
        "import numpy as np\n",
        "import pandas as pd\n",
        "import netCDF4 as nc\n",
        "import glob\n",
        "import os\n",
        "import cftime\n",
        "import matplotlib.pyplot as plt\n",
        "import warnings\n",
        "warnings.filterwarnings('ignore')\n",
        "\n",
        "fn = \"/content/drive/My Drive/CIVE5363_Midterm_Q2bii/tas_day_CanESM5_historical_r1i1p1f1_gn_18500101-20141231.nc\"\n",
        "\n",
        "ds =xr.open_dataset(fn, engine=\"netcdf4\")\n",
        "print(ds)\n",
        "\n",
        "# Load the dataset\n",
        "ds = xr.open_dataset(fn, engine=\"netcdf4\")\n",
        "print(ds)\n",
        "\n",
        "lat = ds.lat.values\n",
        "lon = ds.lon.values\n",
        "\n",
        "\n",
        "\n",
        "# Urban area coordinates\n",
        "latitude = 35.8\n",
        "longitude = -91\n",
        "\n",
        "# Calculate the index for the nearest grid point\n",
        "sq_diff_lat = (lat - latitude) ** 2\n",
        "sq_diff_lon = (lon - longitude) ** 2\n",
        "min_index_lat = sq_diff_lat.argmin()\n",
        "min_index_lon = sq_diff_lon.argmin()\n",
        "latitude_grid = lat[min_index_lat]\n",
        "longitude_grid = lon[min_index_lon]\n",
        "\n",
        "# Select data for the specified location (Urban Area)\n",
        "dsloc = ds.sel(lat=latitude_grid, lon=longitude_grid, method='nearest')\n",
        "annual_max_urban = dsloc.groupby('time.year').max('time')\n",
        "\n",
        "# Convert to arrays\n",
        "if not np.isnan(np.min(annual_max_urban.tas)):\n",
        "    annual_max_urban = np.array(annual_max_urban.tas)\n",
        "\n",
        "def gev_wrapper(data, T):\n",
        "    gevfit = gev_fit(data)\n",
        "    RL = return_levels(gevfit, T)\n",
        "    return RL\n",
        "\n",
        "def gev_fit(data):\n",
        "    gevfit = distr.gev.lmom_fit(data)\n",
        "    return gevfit\n",
        "\n",
        "def return_levels(gevfit, T):\n",
        "    RL = distr.gev.ppf(1.0 - 1.0 / T, **gevfit)\n",
        "    return RL\n",
        "\n",
        "# Calculate GEV return levels for the urban area\n",
        "T_100 = np.arange(0.1, 99.1, 0.1) + 1\n",
        "Urban_RL = gev_wrapper(annual_max_urban, T_100) * 86400\n",
        "\n",
        "# Plot the return levels for the urban area\n",
        "plt.plot(T_100, Urban_RL, label='Urban')\n"
      ]
    }
  ]
}